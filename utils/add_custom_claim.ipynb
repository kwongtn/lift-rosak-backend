{
 "cells": [
  {
   "cell_type": "code",
   "execution_count": 1,
   "metadata": {},
   "outputs": [],
   "source": [
    "import firebase_admin\n",
    "from firebase_admin import credentials, auth"
   ]
  },
  {
   "cell_type": "code",
   "execution_count": 2,
   "metadata": {},
   "outputs": [
    {
     "name": "stdout",
     "output_type": "stream",
     "text": [
      "<firebase_admin.App object at 0x7fb8c5dcbe20>\n"
     ]
    }
   ],
   "source": [
    "cred = credentials.Certificate(\"/home/kwongtn/.firebase/rosak-7223b-firebase-adminsdk-8hcki-f2e0ee7994.json\")\n",
    "default_app = firebase_admin.initialize_app(cred)\n",
    "print(default_app)"
   ]
  },
  {
   "cell_type": "code",
   "execution_count": 3,
   "metadata": {},
   "outputs": [
    {
     "name": "stdout",
     "output_type": "stream",
     "text": [
      "tungnan5636@gmail.com {'admin': True}\n",
      "kzy13695@gmail.com {'admin': True}\n",
      "vincentkzy22@gmail.com {'admin': True}\n",
      "shiraz.nunis8@gmail.com {'admin': True}\n",
      "cameronkang91@gmail.com {'admin': True}\n",
      "adihusaini80@gmail.com {'admin': True}\n",
      "szehoong@gmail.com {'admin': True}\n"
     ]
    }
   ],
   "source": [
    "# Admin emails\n",
    "admins = [\n",
    "    \"tungnan5636@gmail.com\",\n",
    "    \"kzy13695@gmail.com\",\n",
    "    \"vincentkzy22@gmail.com\",\n",
    "    \"shiraz.nunis8@gmail.com\",\n",
    "    \"cameronkang91@gmail.com\",\n",
    "    \"adihusaini80@gmail.com\",\n",
    "    \"szehoong@gmail.com\",\n",
    "]\n",
    "\n",
    "for email in admins:\n",
    "    user = auth.get_user_by_email(email)\n",
    "    print(email, user.custom_claims)"
   ]
  },
  {
   "cell_type": "code",
   "execution_count": 4,
   "metadata": {},
   "outputs": [
    {
     "name": "stdout",
     "output_type": "stream",
     "text": [
      "tungnan5636@gmail.com {'admin': True, 'rosak': True}\n",
      "kzy13695@gmail.com {'admin': True, 'rosak': True}\n",
      "vincentkzy22@gmail.com {'admin': True, 'rosak': True}\n",
      "shiraz.nunis8@gmail.com {'admin': True, 'rosak': True}\n",
      "cameronkang91@gmail.com {'admin': True, 'rosak': True}\n",
      "adihusaini80@gmail.com {'admin': True, 'rosak': True}\n",
      "szehoong@gmail.com {'admin': True, 'rosak': True}\n"
     ]
    }
   ],
   "source": [
    "for email in admins:\n",
    "    user = auth.get_user_by_email(email)\n",
    "    auth.set_custom_user_claims(user.uid, {\"admin\": True, \"rosak\": True})\n",
    "\n",
    "    # Verify the change worked:\n",
    "    user = auth.get_user_by_email(email)\n",
    "    print(email, user.custom_claims)"
   ]
  },
  {
   "cell_type": "code",
   "execution_count": 5,
   "metadata": {},
   "outputs": [
    {
     "name": "stdout",
     "output_type": "stream",
     "text": [
      "User: 3hbie9TLXySd7ce8XLdkueuTosD2\n",
      "User: 4UbKD0nKSJPbvmdapJXR7TH15c93\n",
      "User: 8xCqhpeqGKbfGwr6G8UZmPdE0Xr2\n",
      "User: D4ozS0cT3KNGyzdlCxUhWn1sfAF3\n",
      "User: INENoO2wEOT6jPI6qDMzganUONn1\n",
      "User: Ju7ibt8mzFVOM1Eyy8LPEc8trOk1\n",
      "User: KPimkBFjDVeKlp82nYWYsOrUZaK2\n",
      "User: QUihuAxCOzMZNJRyJb2AJ5Ji93J2\n",
      "User: THeAQq4B4xQn696461irM5HEnbE2\n",
      "User: YuYGy2X5shQGorln2BXMA5obFan1\n",
      "User: ZqjJU09qmzd8hVCZ4ZmvJo0id7R2\n",
      "User: aO7UvBDrh1TO0ysDePuZ9hmHQXi2\n",
      "User: b980LxBNpJMW7PqSac0GGv2csX72\n",
      "User: g6XpSd6AJWOn6pDLOL4ekL26y0a2\n",
      "User: iBl9bXwwfWNIKKJ52ElJH6JiVgR2\n",
      "User: j1fXjmlSL0cizk9zOgsdiAWw85Y2\n",
      "User: nYv17LfyjpgDj1evtUNpzZPF5OO2\n",
      "User: ojGKi73NnfWzZUGjVFvn5sDGJNa2\n",
      "User: pwrtJM1kjhfBW6qsma5SiZ0GV0g1\n",
      "User: sCfkHe7dk0VwYGkfByyOqbCNlnu1\n",
      "User: xnXIshIiR0TBUScETxWWKFjqZA32\n"
     ]
    }
   ],
   "source": [
    "# List all users\n",
    "for user in auth.list_users().iterate_all():\n",
    "    print('User: ' + user.uid)"
   ]
  }
 ],
 "metadata": {
  "kernelspec": {
   "display_name": "Python 3.10.6 ('rosak_backend-M89q1ysx')",
   "language": "python",
   "name": "python3"
  },
  "language_info": {
   "codemirror_mode": {
    "name": "ipython",
    "version": 3
   },
   "file_extension": ".py",
   "mimetype": "text/x-python",
   "name": "python",
   "nbconvert_exporter": "python",
   "pygments_lexer": "ipython3",
   "version": "3.10.6"
  },
  "orig_nbformat": 4,
  "vscode": {
   "interpreter": {
    "hash": "5d50208396c4b5f3c0cbab976dfbc3ea140bb5d63b0142340731c9ba9ea7941f"
   }
  }
 },
 "nbformat": 4,
 "nbformat_minor": 2
}
