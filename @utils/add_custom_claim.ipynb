{
 "cells": [
  {
   "cell_type": "code",
   "execution_count": 1,
   "metadata": {},
   "outputs": [],
   "source": [
    "import firebase_admin\n",
    "from firebase_admin import credentials, auth"
   ]
  },
  {
   "cell_type": "code",
   "execution_count": null,
   "metadata": {},
   "outputs": [],
   "source": [
    "cred = credentials.Certificate(\"/home/kwongtn/.firebase/rosak-7223b-firebase-adminsdk-8hcki-f2e0ee7994.json\")\n",
    "default_app = firebase_admin.initialize_app(cred)\n",
    "print(default_app)"
   ]
  },
  {
   "cell_type": "code",
   "execution_count": null,
   "metadata": {},
   "outputs": [],
   "source": [
    "# Admin emails\n",
    "admins = []\n",
    "\n",
    "for email in admins:\n",
    "    user = auth.get_user_by_email(email)\n",
    "    print(email, user.custom_claims)"
   ]
  },
  {
   "cell_type": "code",
   "execution_count": null,
   "metadata": {},
   "outputs": [],
   "source": [
    "for email in admins:\n",
    "    user = auth.get_user_by_email(email)\n",
    "    auth.set_custom_user_claims(user.uid, {\"admin\": True})\n",
    "\n",
    "    # Verify the change worked:\n",
    "    user = auth.get_user_by_email(email)\n",
    "    print(email, user.custom_claims)"
   ]
  },
  {
   "cell_type": "code",
   "execution_count": null,
   "metadata": {},
   "outputs": [],
   "source": [
    "# List all users\n",
    "for user in auth.list_users().iterate_all():\n",
    "    print('User: ' + user.uid)"
   ]
  }
 ],
 "metadata": {
  "kernelspec": {
   "display_name": "Python 3.10.6 ('rosak_backend-M89q1ysx')",
   "language": "python",
   "name": "python3"
  },
  "language_info": {
   "codemirror_mode": {
    "name": "ipython",
    "version": 3
   },
   "file_extension": ".py",
   "mimetype": "text/x-python",
   "name": "python",
   "nbconvert_exporter": "python",
   "pygments_lexer": "ipython3",
   "version": "3.10.6 (main, Nov 14 2022, 16:10:14) [GCC 11.3.0]"
  },
  "orig_nbformat": 4,
  "vscode": {
   "interpreter": {
    "hash": "5d50208396c4b5f3c0cbab976dfbc3ea140bb5d63b0142340731c9ba9ea7941f"
   }
  }
 },
 "nbformat": 4,
 "nbformat_minor": 2
}
